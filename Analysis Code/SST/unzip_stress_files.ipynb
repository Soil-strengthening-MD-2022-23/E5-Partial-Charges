{
 "cells": [
  {
   "cell_type": "markdown",
   "metadata": {},
   "source": [
    "In lines 1, 5, 9, 13, change the absolute path to the stress.out file input.\n",
    "\n",
    "In lines 3, 7, 11, 15, change the absolute path to the stressXXf.txt file output where XX is the filler concentration."
   ]
  },
  {
   "cell_type": "code",
   "execution_count": null,
   "metadata": {},
   "outputs": [],
   "source": [
    "import pandas as pd\n",
    "\n",
    "df1 = pd.read_csv(\"/media/jbzhang/Windows/Users/jerry/Documents/Summer 2022/Garcia/Multi-scale Modeling/E5-Partial-Charges/Data/q2/100f/100f_n3_q2_res/SST/stress.out\", sep='\\s+', header=None,index_col=False,names=['s_xx', 's_yy', 's_zz', 'n_stress'], usecols=['n_stress'], skiprows=1)\n",
    "df1['n_stress'] = df1['n_stress'] * (-1)\n",
    "df1['n_stress'].to_csv('/media/jbzhang/Windows/Users/jerry/Documents/Summer 2022/Garcia/Multi-scale Modeling/E5-Partial-Charges/Data/q2/100f/100f_n3_q2_res/SST/stress100f_n3.txt', sep=' ',header=False, index=False, float_format='%.6f')\n",
    "\n",
    "df2 = pd.read_csv(\"/media/jbzhang/Windows/Users/jerry/Documents/Summer 2022/Garcia/Multi-scale Modeling/E5-Partial-Charges/Data/q2/100f/100f_n5_q2_res/SST/stress.out\", sep='\\s+', header=None,index_col=False,names=['s_xx', 's_yy', 's_zz', 'n_stress'], usecols=['n_stress'], skiprows=1)\n",
    "df2['n_stress'] = df2['n_stress'] * (-1)\n",
    "df2['n_stress'].to_csv('/media/jbzhang/Windows/Users/jerry/Documents/Summer 2022/Garcia/Multi-scale Modeling/E5-Partial-Charges/Data/q2/100f/100f_n5_q2_res/SST/stress100f_n5.txt', sep=' ',header=False, index=False, float_format='%.6f')\n",
    "\n",
    "df3 = pd.read_csv(\"/media/jbzhang/Windows/Users/jerry/Documents/Summer 2022/Garcia/Multi-scale Modeling/E5-Partial-Charges/Data/q2/100f/100f_n10_q2_res/SST/stress.out\", sep='\\s+', header=None,index_col=False,names=['s_xx', 's_yy', 's_zz', 'n_stress'], usecols=['n_stress'], skiprows=1)\n",
    "df3['n_stress'] = df3['n_stress'] * (-1)\n",
    "df3['n_stress'].to_csv('/media/jbzhang/Windows/Users/jerry/Documents/Summer 2022/Garcia/Multi-scale Modeling/E5-Partial-Charges/Data/q2/100f/100f_n10_q2_res/SST/stress100f_n10.txt', sep=' ',header=False, index=False, float_format='%.6f')"
   ]
  }
 ],
 "metadata": {
  "kernelspec": {
   "display_name": "Python 3.10.6 64-bit",
   "language": "python",
   "name": "python3"
  },
  "language_info": {
   "codemirror_mode": {
    "name": "ipython",
    "version": 3
   },
   "file_extension": ".py",
   "mimetype": "text/x-python",
   "name": "python",
   "nbconvert_exporter": "python",
   "pygments_lexer": "ipython3",
   "version": "3.10.6"
  },
  "vscode": {
   "interpreter": {
    "hash": "916dbcbb3f70747c44a77c7bcd40155683ae19c65e1c03b4aa3499c5328201f1"
   }
  }
 },
 "nbformat": 4,
 "nbformat_minor": 2
}
